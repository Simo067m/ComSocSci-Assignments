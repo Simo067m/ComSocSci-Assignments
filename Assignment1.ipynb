{
 "cells": [
  {
   "cell_type": "markdown",
   "metadata": {},
   "source": [
    "# 02467 Computational Social Science\n",
    "## Assignment 1\n",
    "### Group 15\n",
    "\n",
    "Our GitHub repo is availabe at: https://github.com/Simo067m/ComSocSci-Assignments <br>\n",
    "Contribution:\n",
    "- s233304 : xxxx\n",
    "- s214592 : xxxx"
   ]
  },
  {
   "cell_type": "code",
   "execution_count": 202,
   "metadata": {},
   "outputs": [],
   "source": [
    "# Import packages\n",
    "import pandas as pd\n",
    "import networkx\n",
    "import netwulf\n",
    "import requests\n",
    "from bs4 import BeautifulSoup\n",
    "from tqdm import tqdm\n",
    "import ast\n",
    "\n",
    "from multiprocessing import Pool\n",
    "import time"
   ]
  },
  {
   "cell_type": "markdown",
   "metadata": {},
   "source": [
    "## Part 1: Web-scraping\n",
    "Web-scraping the list of participants to the International Conference in Computational Social Science"
   ]
  },
  {
   "cell_type": "code",
   "execution_count": 3,
   "metadata": {},
   "outputs": [],
   "source": [
    "# Define a function for finding all unique researchers\n",
    "def scrape_IC2S2(soup : BeautifulSoup):\n",
    "    # Find all the names from the top table\n",
    "    names = []\n",
    "    # Find all the table rows\n",
    "    table_rows = soup.find_all(\"tr\")\n",
    "    for tr in table_rows:\n",
    "        tds = tr.find_all(\"td\")\n",
    "        for row in tds:\n",
    "            a = row.find_all(\"a\")\n",
    "            for text in a:\n",
    "                text_content = text.text\n",
    "                if (\"Keynote\" in text_content):\n",
    "                    text_split = text_content.split(\"-\")\n",
    "                    stripped = text_split[1].strip()\n",
    "                    if (stripped not in names):\n",
    "                        names.append(stripped)\n",
    "    \n",
    "    # Find all the names from the bottom lists\n",
    "    # Find all the unordered lists\n",
    "    ul = soup.find_all(\"ul\", class_=\"nav_list\")\n",
    "    # Find all the list elements\n",
    "    for list in ul:\n",
    "        found_names = list.find_all(\"i\")\n",
    "        # For every found name line, seperate into individual names\n",
    "        for name in found_names:\n",
    "            found_names_seperated = name.text.split(\", \")\n",
    "            for seperated_name in found_names_seperated:\n",
    "                if (seperated_name.strip() not in names):\n",
    "                    names.append(seperated_name.strip())\n",
    "\n",
    "    # Find all the names of the chairs\n",
    "    headers = soup.find_all(\"h2\")\n",
    "    for header in headers:\n",
    "        text = header.find(\"i\")\n",
    "        if (text is not None):\n",
    "            seperated_name = text.text.split(\": \")\n",
    "            if (seperated_name[1].strip() not in names):\n",
    "                names.append(seperated_name[1].strip())\n",
    "\n",
    "    return names"
   ]
  },
  {
   "cell_type": "code",
   "execution_count": 4,
   "metadata": {},
   "outputs": [],
   "source": [
    "# Define url and collect content\n",
    "LINK = \"https://ic2s2-2023.org/program\"\n",
    "r = requests.get(LINK)\n",
    "soup = BeautifulSoup(r.content)\n",
    "\n",
    "# find participant names\n",
    "IC2S2_names = scrape_IC2S2(soup)\n",
    "# Save to a pandas DataFrame\n",
    "IC2S2_names_df = pd.DataFrame(IC2S2_names, columns=[\"name\"])\n",
    "IC2S2_names_df.to_csv(\"IC2S2_names.csv\", index=False)"
   ]
  },
  {
   "cell_type": "markdown",
   "metadata": {},
   "source": [
    "### Q5: How many unique researchers do you get?\n",
    ">- 1491"
   ]
  },
  {
   "cell_type": "code",
   "execution_count": 5,
   "metadata": {},
   "outputs": [
    {
     "name": "stdout",
     "output_type": "stream",
     "text": [
      "1491\n"
     ]
    }
   ],
   "source": [
    "print(len(pd.read_csv(\"IC2S2_names.csv\")))"
   ]
  },
  {
   "cell_type": "markdown",
   "metadata": {},
   "source": [
    "### Q6: Explain the process you followed to web-scrape the page. Which choices did you make to accurately retreive as many names as possible? Which strategies did you use to assess the quality of your final list? Explain your reasoning and your choices **(answer in max 150 words)**.\n",
    "\n",
    ">- By inspecting the webpage, we were able to figure out that names were always contained in an &lt;a&gt; element for displaying the name properly. This means that finding an &lt;a&gt; element within one of the tables containing schedules would guarantee a name. When finding other names, like the ones that have the \"chair\", correctness was ensured by splitting that part from the name, ensuring only the name is retrieved.\n",
    ">- Before adding a new name to the list, there is a check making sure that the name is not already in the found names list before adding it, making sure only unique names are in the list. The names contain no unwanted whitespace by calling the $\\texttt{str.strip()}$ method before adding."
   ]
  },
  {
   "cell_type": "markdown",
   "metadata": {},
   "source": [
    "## Part 2: Ready Made vs Custom Made Data\n",
    "\n",
    "### Q1: What are pros and cons of the custom-made data used in Centola's experiment (the first study presented in the lecture) and the ready-made data used in Nicolaides's study (the second study presented in the lecture)? You can support your arguments based on the content of the lecture and the information you read in Chapter 2.3 of the book **(answer in max 150 words)**.\n",
    "\n",
    ">- "
   ]
  },
  {
   "cell_type": "markdown",
   "metadata": {},
   "source": [
    "## Part 3: Gathering Research Articles using the OpenAlex API\n"
   ]
  },
  {
   "cell_type": "code",
   "execution_count": 203,
   "metadata": {},
   "outputs": [],
   "source": [
    "BASE_URL = \"https://api.openalex.org\"\n",
    "WORKS_URL = \"/works\"\n",
    "CONCEPT_URL = \"/concepts\""
   ]
  },
  {
   "cell_type": "code",
   "execution_count": 269,
   "metadata": {},
   "outputs": [],
   "source": [
    "\"\"\"\n",
    "Retrieve concepts ids and return tupel of lists that reflect ([Sociology, Psychology, Economics, Political Science], [Mathematics, Physics, Computer science])\n",
    "\"\"\"\n",
    "\n",
    "def create_concept_filters():\n",
    "    #Retrieve concepts so they can be used for filtering\n",
    "    response_concepts = requests.get(BASE_URL + CONCEPT_URL)\n",
    "    all_concepts = (response_concepts.json()['results'])\n",
    "    \n",
    "    # We want either one of: Sociology OR Psychology OR Economics OR Political Science\n",
    "    com_soc_sci_list = ['Sociology', 'Psychology', 'Economics', 'Political science']\n",
    "    # AND intersecting with a quantitative discipline (Mathematics OR Physics OR Computer Science\"\n",
    "    quant_disc_list = ['Mathematics', 'Physics', 'Computer science']\n",
    "           \n",
    "    com_soc_sci_ids = [c['id'] for c in all_concepts if c['display_name'] in com_soc_sci_list]\n",
    "    quant_disc_ids = [c['id'] for c in all_concepts if c['display_name'] in quant_disc_list]\n",
    "\n",
    "    return(com_soc_sci_ids, quant_disc_ids)"
   ]
  },
  {
   "cell_type": "code",
   "execution_count": 270,
   "metadata": {},
   "outputs": [],
   "source": [
    "\"\"\"\n",
    "Returns a parallel executable \"to-do\" list of parameters for retrieving batches of works at once.\n",
    "\"\"\"\n",
    "\n",
    "def create_todo_list(author_id_list):\n",
    "    todo_list = []\n",
    "    batch_size = 25\n",
    "\n",
    "    com_soc_sci_ids, quant_disc_ids = create_concept_filters()\n",
    "    \n",
    "    for i in range(0, len(author_id_list), batch_size):\n",
    "        author_filter = '|'.join(author_id_list[i:i + batch_size])\n",
    "        filter_string = f\"authorships.author.id:{author_filter},cited_by_count:>10,authors_count:<10,concepts.id:{'|'.join(com_soc_sci_ids)},concepts.id:{'|'.join(quant_disc_ids)}\"\n",
    "\n",
    "        params = {\n",
    "            \"filter\": filter_string,\n",
    "            \"per-page\": 200,\n",
    "            \"cursor\": \"*\"\n",
    "        }\n",
    "        todo_list.append(params)\n",
    "    return todo_list"
   ]
  },
  {
   "cell_type": "code",
   "execution_count": 208,
   "metadata": {},
   "outputs": [],
   "source": [
    "\"\"\"\n",
    "Retrieve works for the given parameters using paging.\n",
    "\"\"\"\n",
    "\n",
    "def retrieve_all_works(params):\n",
    "    # Pause for 2 seconds to stay within limits of API calls\n",
    "    time.sleep(2)\n",
    "    \n",
    "    # List to store all works retrieved\n",
    "    all_works = []\n",
    "    \n",
    "    # Make requests until all works are fetched\n",
    "    while True:\n",
    "        # Make the GET request\n",
    "        response = requests.get(BASE_URL + WORKS_URL, params=params)\n",
    "        \n",
    "        # Check if the request was successful (status code 200)\n",
    "        if response.status_code == 200:\n",
    "            # Append retrieved works to the list\n",
    "            all_works.extend(response.json()[\"results\"])\n",
    "            \n",
    "            # Check if there are more works to fetch (paging)\n",
    "            if len(response.json()[\"results\"]) == params[\"per-page\"]:\n",
    "                # Update the cursor for the next page\n",
    "                params[\"cursor\"] = response.json()[\"meta\"][\"next_cursor\"]\n",
    "            else:\n",
    "                # No more works to fetch\n",
    "                break\n",
    "        else:\n",
    "            # Print an error message if the request was not successful\n",
    "            print(\"Error:\", response.status_code, params)\n",
    "            break\n",
    "    \n",
    "    return all_works"
   ]
  },
  {
   "cell_type": "code",
   "execution_count": 266,
   "metadata": {},
   "outputs": [],
   "source": [
    "\"\"\"\n",
    "Return object including id, publication_year, cited_by_count and author_ids.\n",
    "\"\"\"\n",
    "\n",
    "def create_paper(work):\n",
    "    author_ids = [a['author']['id'] for a in work['authorships']] \n",
    "    return {\n",
    "        'id': work['id'],\n",
    "        'publication_year': work['publication_year'],\n",
    "        'cited_by_count': work['cited_by_count'],\n",
    "        'author_ids': author_ids\n",
    "    }"
   ]
  },
  {
   "cell_type": "code",
   "execution_count": 267,
   "metadata": {},
   "outputs": [],
   "source": [
    "\"\"\"\n",
    "Return object including id, title and abstract_inverted_index.\n",
    "\"\"\"\n",
    "\n",
    "def create_abstract(work):\n",
    "    return {\n",
    "        'id': work['id'],\n",
    "        'title': work['title'],\n",
    "        'abstract_inverted_index': work['abstract_inverted_index']\n",
    "    }"
   ]
  },
  {
   "cell_type": "code",
   "execution_count": 211,
   "metadata": {},
   "outputs": [],
   "source": [
    "\"\"\"\n",
    "Process retrieved data and extract relevant information.\n",
    "\"\"\"\n",
    "def process_data():\n",
    "    for upper_list in unprocessed_data:\n",
    "        for work in upper_list:\n",
    "            IC2S2_papers.append(create_paper(work))\n",
    "            IC2S2_abstracts.append(create_abstract(work))"
   ]
  },
  {
   "cell_type": "markdown",
   "metadata": {},
   "source": [
    "### Retrieve and process data"
   ]
  },
  {
   "cell_type": "code",
   "execution_count": 277,
   "metadata": {},
   "outputs": [],
   "source": [
    "IC2S2_papers = []\n",
    "IC2S2_abstracts = []\n",
    "\n",
    "papers_df = pd.DataFrame()\n",
    "abstracts_df = pd.DataFrame()"
   ]
  },
  {
   "cell_type": "code",
   "execution_count": 278,
   "metadata": {},
   "outputs": [],
   "source": [
    "authors = pd.read_csv('week2-authors.csv')\n",
    "\n",
    "# Filters: Only include IC2S2 authors with a total work count between 5 and 5,000\n",
    "filtered_authors = authors[(authors['works_count'] > 5) & (authors['works_count'] < 5000)]"
   ]
  },
  {
   "cell_type": "code",
   "execution_count": 279,
   "metadata": {},
   "outputs": [
    {
     "name": "stderr",
     "output_type": "stream",
     "text": [
      "100%|███████████████████████████████████████████| 48/48 [00:27<00:00,  1.72it/s]\n"
     ]
    }
   ],
   "source": [
    "if __name__ == \"__main__\":\n",
    "    \n",
    "    \n",
    "    # Prepare all request parameters that have to be done in parallel\n",
    "    todo_list = create_todo_list(filtered_authors.id.tolist())\n",
    "    \n",
    "    # Perform all requests with the prepared parameters in parallel\n",
    "    with Pool() as p:\n",
    "        unprocessed_data = list(tqdm(p.imap(retrieve_all_works, todo_list), total=len(todo_list)))\n",
    "\n",
    "    # Process collected data\n",
    "    process_data()   \n",
    "\n",
    "    # Remove duplicates and store in dataframes and \n",
    "    papers_df = pd.DataFrame(IC2S2_papers).drop_duplicates(subset=['id'])\n",
    "    abstracts_df = pd.DataFrame(IC2S2_abstracts).drop_duplicates(subset=['id'])\n",
    "    \n",
    "    # Export data\n",
    "    papers_df.to_csv('papers.csv', index=False)\n",
    "    abstracts_df.to_csv('abstracts.csv', index=False)"
   ]
  },
  {
   "cell_type": "markdown",
   "metadata": {},
   "source": [
    "### Q1 - Dataset summary\n",
    "- _How many works are listed in your IC2S2 papers dataframe?_ 10.145\n",
    "- _How many unique researchers have co-authored these works?_ 15.741"
   ]
  },
  {
   "cell_type": "code",
   "execution_count": 250,
   "metadata": {},
   "outputs": [
    {
     "name": "stdout",
     "output_type": "stream",
     "text": [
      "How many works are listed in your IC2S2 papers dataframe? 10145\n"
     ]
    }
   ],
   "source": [
    "Q1_works = papers_df.shape[0]\n",
    "print(f\"How many works are listed in your IC2S2 papers dataframe? {Q1_works}\")"
   ]
  },
  {
   "cell_type": "code",
   "execution_count": 251,
   "metadata": {},
   "outputs": [
    {
     "name": "stdout",
     "output_type": "stream",
     "text": [
      "How many unique researchers have co-authored these works? 15741\n"
     ]
    }
   ],
   "source": [
    "Q1_authors = len(set(papers_df['author_ids'].explode().tolist()))\n",
    "print(f\"How many unique researchers have co-authored these works? {Q1_authors}\")"
   ]
  },
  {
   "cell_type": "markdown",
   "metadata": {
    "jp-MarkdownHeadingCollapsed": true
   },
   "source": [
    "### Q2 - Efficiency in code\n",
    "_Describe the strategies you implemented to make your code more efficient. How did your approach affect your code's execution time?_\n",
    "\n",
    "I have used multiprocessing of batches with paging while using filters when retrieving the data. \n",
    "First of all, I have filtered the authors from week 2 exercise 2 to start with a smaller set already. I have then created a list of requests that can be executed in parallel. Each of these requests includes the filters (described in the assignment) of the individual request, and the batch size of 200.\n",
    "Next, I executed these requests in parallel using the function “imap” by the class “multiprocessing.Pool”. To keep within the limits of the API I have added a sleep for two seconds. \n",
    "The data retrieval has taken a total of about 36 seconds. (112 words)"
   ]
  },
  {
   "cell_type": "markdown",
   "metadata": {},
   "source": [
    "### Q3 - Filtering Criteria and Dataset Relevance\n",
    "_Reflect on the rationale behind setting specific thresholds for the total number of works by an author, the citation count, the number of authors per work, and the relevance of works to specific fields. How do these filtering criteria contribute to the relevance of the dataset you compiled? Do you believe any aspects of Computational Social Science research might be underrepresented or overrepresented as a result of these choices?_\n",
    "\n",
    "When focusing on the total number of works by an author and the citation count, one can say, that while this filtering helps include work from established researchers with a proven track record of impactful research, it excludes upcoming researchers or those from underrepresented backgrounds or smaller fields of computational social science which might be as valuable as the others.\n",
    "This could lead to an overrepresentation of researchers in a more general field and an underrepresentation of niche researchers.\n",
    "When looking into the number of authors per work, can help to create a balanced representation of single-authored and multi-authored works. However, collaborative research projects which may be in interdisciplinary environments will be excluded.\n",
    "When looking into the specific fields, research that does not directly fall into one of these pre-defined fields might still hold a lot of value within these fields and may bridge traditional disciplinary boundaries. (147 words)"
   ]
  },
  {
   "cell_type": "markdown",
   "metadata": {},
   "source": [
    "## Part 4: The Network of Computational Social Scientists\n",
    "\n",
    "### Constructing the Computational Social Scientists Network"
   ]
  },
  {
   "cell_type": "markdown",
   "metadata": {},
   "source": [
    "### Part 4.1: Network Construction"
   ]
  },
  {
   "cell_type": "code",
   "execution_count": 189,
   "metadata": {},
   "outputs": [],
   "source": [
    "# Load the papers dataset\n",
    "papers_df = pd.read_csv(\"papers.csv\")\n",
    "# Load the author's dataset\n",
    "authors_df = pd.read_csv(\"week2-authors.csv\")\n",
    "# Load the abstracts dataset\n",
    "abstracts_df = pd.read_csv(\"abstracts.csv\")"
   ]
  },
  {
   "cell_type": "code",
   "execution_count": 8,
   "metadata": {},
   "outputs": [
    {
     "name": "stderr",
     "output_type": "stream",
     "text": [
      "Progress:   1%|          | 249/37523 [00:58<2:25:55,  4.26it/s] \n"
     ]
    },
    {
     "ename": "KeyboardInterrupt",
     "evalue": "",
     "output_type": "error",
     "traceback": [
      "\u001b[1;31m---------------------------------------------------------------------------\u001b[0m",
      "\u001b[1;31mKeyboardInterrupt\u001b[0m                         Traceback (most recent call last)",
      "Cell \u001b[1;32mIn[8], line 20\u001b[0m\n\u001b[0;32m     18\u001b[0m papers_authors_ids \u001b[38;5;241m=\u001b[39m papers_df[\u001b[38;5;124m\"\u001b[39m\u001b[38;5;124mauthor_ids\u001b[39m\u001b[38;5;124m\"\u001b[39m]\u001b[38;5;241m.\u001b[39mapply(ast\u001b[38;5;241m.\u001b[39mliteral_eval)\n\u001b[0;32m     19\u001b[0m author_ids \u001b[38;5;241m=\u001b[39m authors_df[\u001b[38;5;124m\"\u001b[39m\u001b[38;5;124mid\u001b[39m\u001b[38;5;124m\"\u001b[39m]\n\u001b[1;32m---> 20\u001b[0m \u001b[38;5;28mprint\u001b[39m(\u001b[43mcreate_weighted_edgelist\u001b[49m\u001b[43m(\u001b[49m\u001b[43mpapers_authors_ids\u001b[49m\u001b[43m,\u001b[49m\u001b[43m \u001b[49m\u001b[43mauthor_ids\u001b[49m\u001b[43m)\u001b[49m)\n\u001b[0;32m     21\u001b[0m \u001b[38;5;66;03m#for index, row in papers_df.iterrows():\u001b[39;00m\n",
      "Cell \u001b[1;32mIn[8], line 15\u001b[0m, in \u001b[0;36mcreate_weighted_edgelist\u001b[1;34m(paper_authors_ids, author_ids)\u001b[0m\n\u001b[0;32m     12\u001b[0m                 pairs\u001b[38;5;241m.\u001b[39mappend(pair)\n\u001b[0;32m     13\u001b[0m             \u001b[38;5;28;01mfor\u001b[39;00m authors_ \u001b[38;5;129;01min\u001b[39;00m paper_authors_ids:\n\u001b[1;32m---> 15\u001b[0m                 edges\u001b[38;5;241m.\u001b[39mappend((pair, \u001b[38;5;241m1\u001b[39m))\n\u001b[0;32m     17\u001b[0m \u001b[38;5;28;01mreturn\u001b[39;00m edges\n",
      "\u001b[1;31mKeyboardInterrupt\u001b[0m: "
     ]
    }
   ],
   "source": [
    "# Create weighted edgelist WIP\n",
    "def create_weighted_edgelist(paper_authors_ids, author_ids):\n",
    "    edges = []\n",
    "    pairs = []\n",
    "    # Loop through the paper authors\n",
    "    for authors in tqdm(paper_authors_ids, desc=\"Progress\"):\n",
    "        for i in range(len(authors)):\n",
    "            for j in range(i + 1, len(authors)):\n",
    "                pair = (authors[i], authors[j])\n",
    "                if pair not in pairs and (pair[1], pair[0]) not in pairs:\n",
    "                    co_authored_works_count = 0\n",
    "                    pairs.append(pair)\n",
    "                    for authors_ in paper_authors_ids:\n",
    "                        if pair[0] in authors_ and pair[1] in authors_:\n",
    "                            co_authored_works_count += 1\n",
    "                    edges.append((pair[0], pair[1], co_authored_works_count))\n",
    "    \n",
    "    return edges\n",
    "\n",
    "papers_authors_ids = papers_df[\"author_ids\"].apply(ast.literal_eval)\n",
    "author_ids = authors_df[\"id\"]\n",
    "print(create_weighted_edgelist(papers_authors_ids, author_ids))\n",
    "#for index, row in papers_df.iterrows():"
   ]
  }
 ],
 "metadata": {
  "kernelspec": {
   "display_name": "Python 3 (ipykernel)",
   "language": "python",
   "name": "python3"
  },
  "language_info": {
   "codemirror_mode": {
    "name": "ipython",
    "version": 3
   },
   "file_extension": ".py",
   "mimetype": "text/x-python",
   "name": "python",
   "nbconvert_exporter": "python",
   "pygments_lexer": "ipython3",
   "version": "3.10.13"
  }
 },
 "nbformat": 4,
 "nbformat_minor": 4
}
