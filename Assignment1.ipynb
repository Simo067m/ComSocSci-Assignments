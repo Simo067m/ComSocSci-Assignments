{
 "cells": [
  {
   "cell_type": "markdown",
   "metadata": {},
   "source": [
    "# 02467 Computational Social Science\n",
    "## Assignment 1\n",
    "### Group 15\n",
    "\n",
    "Our GitHub repo is availabe at: https://github.com/Simo067m/ComSocSci-Assignments <br>\n",
    "Contribution:\n",
    "- s233304 : xxxx\n",
    "- s214592 : xxxx"
   ]
  },
  {
   "cell_type": "code",
   "execution_count": 2,
   "metadata": {},
   "outputs": [],
   "source": [
    "# Import packages\n",
    "import pandas as pd\n",
    "import networkx\n",
    "import netwulf\n",
    "import requests\n",
    "from bs4 import BeautifulSoup\n",
    "from tqdm import tqdm"
   ]
  },
  {
   "cell_type": "markdown",
   "metadata": {},
   "source": [
    "## Part 1: Web-scraping\n",
    "Web-scraping the list of participants to the International Conference in Computational Social Science"
   ]
  },
  {
   "cell_type": "code",
   "execution_count": 17,
   "metadata": {},
   "outputs": [],
   "source": [
    "# Define a function for finding all unique researchers\n",
    "def scrape_IC2S2(soup : BeautifulSoup):\n",
    "    # Find all the names from the top table\n",
    "    names = []\n",
    "    # Find all the table rows\n",
    "    table_rows = soup.find_all(\"tr\")\n",
    "    for tr in table_rows:\n",
    "        tds = tr.find_all(\"td\")\n",
    "        for row in tds:\n",
    "            a = row.find_all(\"a\")\n",
    "            for text in a:\n",
    "                text_content = text.text\n",
    "                if (\"Keynote\" in text_content):\n",
    "                    text_split = text_content.split(\"-\")\n",
    "                    stripped = text_split[1].strip()\n",
    "                    if (stripped not in names):\n",
    "                        names.append(stripped)\n",
    "    \n",
    "    # Find all the names from the bottom lists\n",
    "    # Find all the unordered lists\n",
    "    ul = soup.find_all(\"ul\", class_=\"nav_list\")\n",
    "    # Find all the list elements\n",
    "    for list in ul:\n",
    "        found_names = list.find_all(\"i\")\n",
    "        # For every found name line, seperate into individual names\n",
    "        for name in found_names:\n",
    "            found_names_seperated = name.text.split(\", \")\n",
    "            for seperated_name in found_names_seperated:\n",
    "                if (seperated_name.strip() not in names):\n",
    "                    names.append(seperated_name.strip())\n",
    "\n",
    "    # Find all the names of the chairs\n",
    "    headers = soup.find_all(\"h2\")\n",
    "    for header in headers:\n",
    "        text = header.find(\"i\")\n",
    "        if (text is not None):\n",
    "            seperated_name = text.text.split(\": \")\n",
    "            if (seperated_name[1].strip() not in names):\n",
    "                names.append(seperated_name[1].strip())\n",
    "\n",
    "    return names"
   ]
  },
  {
   "cell_type": "code",
   "execution_count": 19,
   "metadata": {},
   "outputs": [],
   "source": [
    "# Define url and collect content\n",
    "LINK = \"https://ic2s2-2023.org/program\"\n",
    "r = requests.get(LINK)\n",
    "soup = BeautifulSoup(r.content)\n",
    "\n",
    "# find participant names\n",
    "IC2S2_names = scrape_IC2S2(soup)\n",
    "# Save to a pandas DataFrame\n",
    "IC2S2_names_df = pd.DataFrame(IC2S2_names, columns=[\"name\"])\n",
    "IC2S2_names_df.to_csv(\"IC2S2_names.csv\", index=False)"
   ]
  },
  {
   "cell_type": "markdown",
   "metadata": {},
   "source": [
    "### Q5: How many unique researchers do you get?\n",
    ">- 1491"
   ]
  },
  {
   "cell_type": "code",
   "execution_count": 20,
   "metadata": {},
   "outputs": [
    {
     "name": "stdout",
     "output_type": "stream",
     "text": [
      "1491\n"
     ]
    }
   ],
   "source": [
    "print(len(pd.read_csv(\"IC2S2_names.csv\")))"
   ]
  },
  {
   "cell_type": "markdown",
   "metadata": {},
   "source": [
    "### Q6: Explain the process you followed to web-scrape the page. Which choices did you make to accurately retreive as many names as possible? Which strategies did you use to assess the quality of your final list? Explain your reasoning and your choices **(answer in max 150 words)**.\n",
    "\n",
    ">- By inspecting the webpage, we were able to figure out that names were always contained in an &lt;a&gt; element for displaying the name properly. This means that finding an &lt;a&gt; element within one of the tables containing schedules would guarantee a name. When finding other names, like the ones that have the \"chair\", correctness was ensured by splitting that part from the name, ensuring only the name is retrieved.\n",
    ">- Before adding a new name to the list, there is a check making sure that the name is not already in the found names list before adding it, making sure only unique names are in the list. The names contain no unwanted whitespace by calling the $\\texttt{str.strip()}$ method before adding."
   ]
  },
  {
   "cell_type": "markdown",
   "metadata": {},
   "source": [
    "## Part 2: Ready Made vs Custom Made Data\n",
    "\n",
    "### Q1: What are pros and cons of the custom-made data used in Centola's experiment (the first study presented in the lecture) and the ready-made data used in Nicolaides's study (the second study presented in the lecture)? You can support your arguments based on the content of the lecture and the information you read in Chapter 2.3 of the book **(answer in max 150 words)**.\n",
    "\n",
    ">- "
   ]
  }
 ],
 "metadata": {
  "kernelspec": {
   "display_name": ".venv",
   "language": "python",
   "name": "python3"
  },
  "language_info": {
   "codemirror_mode": {
    "name": "ipython",
    "version": 3
   },
   "file_extension": ".py",
   "mimetype": "text/x-python",
   "name": "python",
   "nbconvert_exporter": "python",
   "pygments_lexer": "ipython3",
   "version": "3.10.11"
  }
 },
 "nbformat": 4,
 "nbformat_minor": 2
}
