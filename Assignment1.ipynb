{
 "cells": [
  {
   "cell_type": "markdown",
   "metadata": {},
   "source": [
    "# 02467 Computational Social Science\n",
    "## Assignment 1\n",
    "### Group 15\n",
    "\n",
    "Our GitHub repo is availabe at: https://github.com/Simo067m/ComSocSci-Assignments <br>\n",
    "Contribution:\n",
    "- s233304 : Part 2 + Part 3 + Part 4\n",
    "- s214592 : Part 1 + Part 4"
   ]
  },
  {
   "cell_type": "code",
   "execution_count": 148,
   "metadata": {},
   "outputs": [],
   "source": [
    "# Import packages\n",
    "import pandas as pd\n",
    "import networkx as nx\n",
    "import netwulf\n",
    "import requests\n",
    "from bs4 import BeautifulSoup\n",
    "from tqdm import tqdm\n",
    "import ast\n",
    "import numpy as np\n",
    "\n",
    "from multiprocessing import Pool\n",
    "import time"
   ]
  },
  {
   "cell_type": "markdown",
   "metadata": {},
   "source": [
    "## Part 1: Web-scraping\n",
    "Web-scraping the list of participants to the International Conference in Computational Social Science"
   ]
  },
  {
   "cell_type": "code",
   "execution_count": 149,
   "metadata": {},
   "outputs": [],
   "source": [
    "# Define a function for finding all unique researchers\n",
    "def scrape_IC2S2(soup : BeautifulSoup):\n",
    "    # Find all the names from the top table\n",
    "    names = []\n",
    "    # Find all the table rows\n",
    "    table_rows = soup.find_all(\"tr\")\n",
    "    for tr in table_rows:\n",
    "        tds = tr.find_all(\"td\")\n",
    "        for row in tds:\n",
    "            a = row.find_all(\"a\")\n",
    "            for text in a:\n",
    "                text_content = text.text\n",
    "                if (\"Keynote\" in text_content):\n",
    "                    text_split = text_content.split(\"-\")\n",
    "                    stripped = text_split[1].strip()\n",
    "                    if (stripped not in names):\n",
    "                        names.append(stripped)\n",
    "    \n",
    "    # Find all the names from the bottom lists\n",
    "    # Find all the unordered lists\n",
    "    ul = soup.find_all(\"ul\", class_=\"nav_list\")\n",
    "    # Find all the list elements\n",
    "    for list in ul:\n",
    "        found_names = list.find_all(\"i\")\n",
    "        # For every found name line, seperate into individual names\n",
    "        for name in found_names:\n",
    "            found_names_seperated = name.text.split(\", \")\n",
    "            for seperated_name in found_names_seperated:\n",
    "                if (seperated_name.strip() not in names):\n",
    "                    names.append(seperated_name.strip())\n",
    "\n",
    "    # Find all the names of the chairs\n",
    "    headers = soup.find_all(\"h2\")\n",
    "    for header in headers:\n",
    "        text = header.find(\"i\")\n",
    "        if (text is not None):\n",
    "            seperated_name = text.text.split(\": \")\n",
    "            if (seperated_name[1].strip() not in names):\n",
    "                names.append(seperated_name[1].strip())\n",
    "\n",
    "    return names"
   ]
  },
  {
   "cell_type": "code",
   "execution_count": 150,
   "metadata": {},
   "outputs": [],
   "source": [
    "# Define url and collect content\n",
    "LINK = \"https://ic2s2-2023.org/program\"\n",
    "r = requests.get(LINK)\n",
    "soup = BeautifulSoup(r.content)\n",
    "\n",
    "# find participant names\n",
    "IC2S2_names = scrape_IC2S2(soup)\n",
    "# Save to a pandas DataFrame\n",
    "IC2S2_names_df = pd.DataFrame(IC2S2_names, columns=[\"name\"])\n",
    "IC2S2_names_df.to_csv(\"IC2S2_names.csv\", index=False)"
   ]
  },
  {
   "cell_type": "markdown",
   "metadata": {},
   "source": [
    "### Q5: How many unique researchers do you get?\n",
    ">- 1491"
   ]
  },
  {
   "cell_type": "code",
   "execution_count": 151,
   "metadata": {},
   "outputs": [
    {
     "name": "stdout",
     "output_type": "stream",
     "text": [
      "1491\n"
     ]
    }
   ],
   "source": [
    "print(len(pd.read_csv(\"IC2S2_names.csv\")))"
   ]
  },
  {
   "cell_type": "markdown",
   "metadata": {},
   "source": [
    "### Q6: Explain the process you followed to web-scrape the page. Which choices did you make to accurately retreive as many names as possible? Which strategies did you use to assess the quality of your final list? Explain your reasoning and your choices **(answer in max 150 words)**.\n",
    "\n",
    ">- By inspecting the webpage, we were able to figure out that names were always contained in an &lt;a&gt; element for displaying the name properly. This means that finding an &lt;a&gt; element within one of the tables containing schedules would guarantee a name. When finding other names, like the ones that have the \"chair\", correctness was ensured by splitting that part from the name, ensuring only the name is retrieved.\n",
    ">- Before adding a new name to the list, there is a check making sure that the name is not already in the found names list before adding it, making sure only unique names are in the list. The names contain no unwanted whitespace by calling the $\\texttt{str.strip()}$ method before adding."
   ]
  },
  {
   "cell_type": "markdown",
   "metadata": {},
   "source": [
    "## Part 2: Ready Made vs Custom Made Data\n",
    "\n",
    "### Q1\n",
    "_What are pros and cons of the custom-made data used in Centola's experiment (the first study presented in the lecture) and the ready-made data used in Nicolaides's study (the second study presented in the lecture)? You can support your arguments based on the content of the lecture and the information you read in Chapter 2.3 of the book (answer in max 150 words)._\n",
    "\n",
    ">- **custom-made data**: The pros are that specific hypotheses can be investigated within a  controlled environment without any external influences. However, this control can also be a disadvantage, as the created clusters were created randomly and might only artificially fit the definition of friend group and the studied social network definitions, and people might behave differently as the people that use are not really their friends.\n",
    ">- **ready-made data**: The advantages are that a big dataset is already available and ecologically valid. However, the researchers do not have any control over how the data is collected and this collection purpose might not match the needs of the research. Nevertheless, this can also be seen as a potential pro as this could lead to more creative and innovative methods used by the researchers which might in the next step create new findings outside of the standard procedure.\n",
    "(146 words)\n",
    "\n",
    "### Q2\n",
    "_How do you think these differences can influence the interpretation of the results in each study? (answer in max 150 words)_\n",
    "> These differences can mainly influence the limitations of a study. In Centola's study, the degree of realism within the experimental setup can influence the interpretation. While these results were observed within an artificially created network, it has to be investigated if these outcomes can be generalized to other naturally formed networks. In Nicolaide's study, other effects other than the contagiousness of the network could be the reason for the change in running behaviour. While there were some tests applied to check the outcome, for example, the weather check, it is still always questionable if the \"right\" testing has been done. (100 words)"
   ]
  },
  {
   "cell_type": "markdown",
   "metadata": {},
   "source": [
    "## Part 3: Gathering Research Articles using the OpenAlex API\n"
   ]
  },
  {
   "cell_type": "code",
   "execution_count": null,
   "metadata": {},
   "outputs": [],
   "source": [
    "BASE_URL = \"https://api.openalex.org\"\n",
    "WORKS_URL = \"/works\"\n",
    "CONCEPT_URL = \"/concepts\"\n",
    "AUTHORS_URL = \"/authors\""
   ]
  },
  {
   "cell_type": "code",
   "execution_count": null,
   "metadata": {},
   "outputs": [],
   "source": [
    "\"\"\"\n",
    "Retrieve concepts ids and return tupel of lists that reflect ([Sociology, Psychology, Economics, Political Science], [Mathematics, Physics, Computer science])\n",
    "\"\"\"\n",
    "\n",
    "def create_concept_filters():\n",
    "    #Retrieve concepts so they can be used for filtering\n",
    "    response_concepts = requests.get(BASE_URL + CONCEPT_URL)\n",
    "    all_concepts = (response_concepts.json()['results'])\n",
    "    \n",
    "    # We want either one of: Sociology OR Psychology OR Economics OR Political Science\n",
    "    com_soc_sci_list = ['Sociology', 'Psychology', 'Economics', 'Political science']\n",
    "    # AND intersecting with a quantitative discipline (Mathematics OR Physics OR Computer Science\"\n",
    "    quant_disc_list = ['Mathematics', 'Physics', 'Computer science']\n",
    "           \n",
    "    com_soc_sci_ids = [c['id'] for c in all_concepts if c['display_name'] in com_soc_sci_list]\n",
    "    quant_disc_ids = [c['id'] for c in all_concepts if c['display_name'] in quant_disc_list]\n",
    "\n",
    "    return(com_soc_sci_ids, quant_disc_ids)"
   ]
  },
  {
   "cell_type": "code",
   "execution_count": null,
   "metadata": {},
   "outputs": [],
   "source": [
    "\"\"\"\n",
    "Returns a parallel executable \"to-do\" list of parameters for retrieving batches of works at once.\n",
    "\"\"\"\n",
    "\n",
    "def create_todo_list(author_id_list):\n",
    "    todo_list = []\n",
    "    batch_size = 25\n",
    "\n",
    "    com_soc_sci_ids, quant_disc_ids = create_concept_filters()\n",
    "    \n",
    "    for i in range(0, len(author_id_list), batch_size):\n",
    "        author_filter = '|'.join(author_id_list[i:i + batch_size])\n",
    "        filter_string = f\"authorships.author.id:{author_filter},cited_by_count:>10,authors_count:<10,concepts.id:{'|'.join(com_soc_sci_ids)},concepts.id:{'|'.join(quant_disc_ids)}\"\n",
    "\n",
    "        params = {\n",
    "            \"filter\": filter_string,\n",
    "            \"per-page\": 200,\n",
    "            \"cursor\": \"*\"\n",
    "        }\n",
    "        todo_list.append(params)\n",
    "    return todo_list"
   ]
  },
  {
   "cell_type": "code",
   "execution_count": null,
   "metadata": {},
   "outputs": [],
   "source": [
    "\"\"\"\n",
    "Retrieve works for the given parameters using paging.\n",
    "\"\"\"\n",
    "\n",
    "def retrieve_all_works(params, specific_url):\n",
    "    # Pause for 2 seconds to stay within limits of API calls\n",
    "    time.sleep(2)\n",
    "    \n",
    "    # List to store all works retrieved\n",
    "    all_works = []\n",
    "    \n",
    "    # Make requests until all works are fetched\n",
    "    while True:\n",
    "        # Make the GET request\n",
    "        response = requests.get(BASE_URL + specific_url, params=params)\n",
    "        \n",
    "        # Check if the request was successful (status code 200)\n",
    "        if response.status_code == 200:\n",
    "            # Append retrieved works to the list\n",
    "            all_works.extend(response.json()[\"results\"])\n",
    "            \n",
    "            # Check if there are more works to fetch (paging)\n",
    "            if len(response.json()[\"results\"]) == params[\"per-page\"]:\n",
    "                # Update the cursor for the next page\n",
    "                params[\"cursor\"] = response.json()[\"meta\"][\"next_cursor\"]\n",
    "            else:\n",
    "                # No more works to fetch\n",
    "                break\n",
    "        else:\n",
    "            # Print an error message if the request was not successful\n",
    "            print(\"Error:\", response.status_code, params)\n",
    "            break\n",
    "    \n",
    "    return all_works"
   ]
  },
  {
   "cell_type": "code",
   "execution_count": null,
   "metadata": {},
   "outputs": [],
   "source": [
    "\"\"\"\n",
    "Return object including id, publication_year, cited_by_count and author_ids.\n",
    "\"\"\"\n",
    "\n",
    "def create_paper(work):\n",
    "    author_ids = [a['author']['id'] for a in work['authorships']] \n",
    "    return {\n",
    "        'id': work['id'],\n",
    "        'publication_year': work['publication_year'],\n",
    "        'cited_by_count': work['cited_by_count'],\n",
    "        'author_ids': author_ids\n",
    "    }"
   ]
  },
  {
   "cell_type": "code",
   "execution_count": null,
   "metadata": {},
   "outputs": [],
   "source": [
    "\"\"\"\n",
    "Return object including id, title and abstract_inverted_index.\n",
    "\"\"\"\n",
    "\n",
    "def create_abstract(work):\n",
    "    return {\n",
    "        'id': work['id'],\n",
    "        'title': work['title'],\n",
    "        'abstract_inverted_index': work['abstract_inverted_index']\n",
    "    }"
   ]
  },
  {
   "cell_type": "code",
   "execution_count": null,
   "metadata": {},
   "outputs": [],
   "source": [
    "\"\"\"\n",
    "Process retrieved data and extract relevant information.\n",
    "\"\"\"\n",
    "def process_data():\n",
    "    for upper_list in unprocessed_data:\n",
    "        for work in upper_list:\n",
    "            IC2S2_papers.append(create_paper(work))\n",
    "            IC2S2_abstracts.append(create_abstract(work))"
   ]
  },
  {
   "cell_type": "markdown",
   "metadata": {},
   "source": [
    "### Retrieve and process data"
   ]
  },
  {
   "cell_type": "code",
   "execution_count": null,
   "metadata": {},
   "outputs": [],
   "source": [
    "IC2S2_papers = []\n",
    "IC2S2_abstracts = []\n",
    "\n",
    "papers_df = pd.DataFrame()\n",
    "abstracts_df = pd.DataFrame()"
   ]
  },
  {
   "cell_type": "code",
   "execution_count": null,
   "metadata": {},
   "outputs": [],
   "source": [
    "IC2S2_authors_df = pd.read_csv('week2-authors.csv')\n",
    "\n",
    "# Filters: Only include IC2S2 authors with a total work count between 5 and 5,000\n",
    "filtered_IC2S2_authors_df = IC2S2_authors_df[(IC2S2_authors_df['works_count'] > 5) & (IC2S2_authors_df['works_count'] < 5000)]"
   ]
  },
  {
   "cell_type": "code",
   "execution_count": null,
   "metadata": {},
   "outputs": [],
   "source": [
    "def work_worker(params):\n",
    "    return retrieve_all_works(params, WORKS_URL)"
   ]
  },
  {
   "cell_type": "code",
   "execution_count": null,
   "metadata": {},
   "outputs": [
    {
     "name": "stderr",
     "output_type": "stream",
     "text": [
      "  0%|          | 0/48 [00:00<?, ?it/s]"
     ]
    }
   ],
   "source": [
    "if __name__ == \"__main__\":\n",
    "    # Prepare all request parameters that have to be done in parallel\n",
    "    todo_list = create_todo_list(filtered_IC2S2_authors_df.id.tolist())\n",
    "    \n",
    "    # Perform all requests with the prepared parameters in parallel\n",
    "    with Pool() as p:\n",
    "        unprocessed_data = list(tqdm(p.imap(work_worker, todo_list), total=len(todo_list)))\n",
    "\n",
    "    # Process collected data\n",
    "    process_data()   \n",
    "\n",
    "    # Remove duplicates and store in dataframes and \n",
    "    papers_df = pd.DataFrame(IC2S2_papers).drop_duplicates(subset=['id'])\n",
    "    abstracts_df = pd.DataFrame(IC2S2_abstracts).drop_duplicates(subset=['id'])\n",
    "    \n",
    "    # Export data\n",
    "    papers_df.to_csv('papers.csv', index=False)\n",
    "    abstracts_df.to_csv('abstracts.csv', index=False)"
   ]
  },
  {
   "cell_type": "markdown",
   "metadata": {},
   "source": [
    "#### Retrieving information about co-authors in preparation for Part 4"
   ]
  },
  {
   "cell_type": "code",
   "execution_count": null,
   "metadata": {},
   "outputs": [],
   "source": [
    "\"\"\"\n",
    "Returns a parallel executable \"to-do\" list of parameters for retrieving batches of authors at once.\n",
    "\"\"\"\n",
    "def create_auth_todo_list(author_id_list):\n",
    "    auth_todo_list = []\n",
    "    batch_size = 25\n",
    "    \n",
    "    for i in range(0, len(author_id_list), batch_size):\n",
    "        author_filter = \"|\".join(author_id_list[i:i + batch_size])\n",
    "        params = {\n",
    "            \"filter\": f\"ids.openalex:{author_filter}\", #author_filter,\n",
    "            \"per-page\": 200,\n",
    "            \"cursor\": \"*\"\n",
    "        }\n",
    "        auth_todo_list.append(params)\n",
    "\n",
    "    return auth_todo_list"
   ]
  },
  {
   "cell_type": "code",
   "execution_count": null,
   "metadata": {},
   "outputs": [],
   "source": [
    "\"\"\"\n",
    "Return object including id, display_name, works_api_url, works_count, summary_stats and last_known_institution.\n",
    "\"\"\"\n",
    "def create_author(author):\n",
    "    obj =  {\n",
    "        'id': author['id'],\n",
    "        'display_name': author['display_name'],\n",
    "        'works_api_url': author['works_api_url'],\n",
    "        'works_count': author['works_count'],\n",
    "    }\n",
    "\n",
    "    if author['summary_stats']:\n",
    "        obj['h_index'] = author['summary_stats']['h_index']\n",
    "\n",
    "    if author['last_known_institution']:\n",
    "        obj['country_code'] = author['last_known_institution']['country_code']\n",
    "\n",
    "    return obj"
   ]
  },
  {
   "cell_type": "code",
   "execution_count": null,
   "metadata": {},
   "outputs": [],
   "source": [
    "def author_worker(params):\n",
    "    return retrieve_all_works(params, AUTHORS_URL)"
   ]
  },
  {
   "cell_type": "code",
   "execution_count": null,
   "metadata": {},
   "outputs": [],
   "source": [
    "co_authors = []\n",
    "co_authors_df = pd.DataFrame()"
   ]
  },
  {
   "cell_type": "code",
   "execution_count": null,
   "metadata": {},
   "outputs": [],
   "source": [
    "# Start with the unique author IDs in the IC2S2 papers dataset from part 3\n",
    "author_ids_set = set()\n",
    "for d in IC2S2_papers:\n",
    "    author_ids_set.update(d['author_ids'])\n",
    "\n",
    "# Exclude the IC2S2 authors from this query since you already have their data. \n",
    "co_authors_id = [a for a in author_ids_set if a not in list(IC2S2_authors_df.id)]"
   ]
  },
  {
   "cell_type": "code",
   "execution_count": null,
   "metadata": {},
   "outputs": [
    {
     "name": "stdout",
     "output_type": "stream",
     "text": [
      "(14850, 6)\n"
     ]
    }
   ],
   "source": [
    "if __name__ == \"__main__\":\n",
    "    # Prepare all request parameters that have to be done in parallel\n",
    "    co_author_todo = create_auth_todo_list(co_authors_id)\n",
    "\n",
    "    # Perform all requests with the prepared parameters in parallel\n",
    "    with Pool() as p:\n",
    "        unprocessed_auth_data = list(tqdm(p.imap(author_worker, co_author_todo), total=len(co_author_todo)))\n",
    "\n",
    "    # Clean-up data \n",
    "    for data in unprocessed_auth_data:\n",
    "        for author_object in data:\n",
    "            co_authors.append(create_author(author_object))\n",
    "\n",
    "    # Remove duplicates and store in dataframes and \n",
    "    co_authors_df = pd.DataFrame(co_authors).drop_duplicates(subset=['id'])\n",
    "    print(co_authors_df.shape)\n",
    "\n",
    "    # Export co-authors\n",
    "    co_authors_df.to_csv('co-authors.csv', index=False)"
   ]
  },
  {
   "cell_type": "code",
   "execution_count": null,
   "metadata": {},
   "outputs": [],
   "source": [
    "# Create one dataframe holding all authors and co-authors\n",
    "authors_df = pd.concat([IC2S2_authors_df, co_authors_df])\n",
    "authors_df.to_csv('authors.csv', index=False)"
   ]
  },
  {
   "cell_type": "markdown",
   "metadata": {},
   "source": [
    "### Q1 - Dataset summary\n",
    "- _How many works are listed in your IC2S2 papers dataframe?_\n",
    ">- 10.155\n",
    "- _How many unique researchers have co-authored these works?_\n",
    ">- 14.850"
   ]
  },
  {
   "cell_type": "code",
   "execution_count": null,
   "metadata": {},
   "outputs": [
    {
     "name": "stdout",
     "output_type": "stream",
     "text": [
      "How many works are listed in your IC2S2 papers dataframe? 10155\n"
     ]
    }
   ],
   "source": [
    "Q1_works = papers_df.shape[0]\n",
    "print(f\"How many works are listed in your IC2S2 papers dataframe? {Q1_works}\")"
   ]
  },
  {
   "cell_type": "code",
   "execution_count": 26,
   "metadata": {},
   "outputs": [
    {
     "name": "stdout",
     "output_type": "stream",
     "text": [
      "How many unique researchers have co-authored these works? 14850\n"
     ]
    }
   ],
   "source": [
    "Q1_authors = co_authors_df.shape[0]\n",
    "print(f\"How many unique researchers have co-authored these works? {Q1_authors}\")"
   ]
  },
  {
   "cell_type": "markdown",
   "metadata": {},
   "source": [
    "### Q2 - Efficiency in code\n",
    "_Describe the strategies you implemented to make your code more efficient. How did your approach affect your code's execution time?_\n",
    "\n",
    "> I have used multiprocessing of batches with paging while using filters when retrieving the data. \n",
    "First of all, I have filtered the authors from week 2 exercise 2 to start with a smaller set already. I have then created a list of requests that can be executed in parallel. Each of these requests includes the filters (described in the assignment) of the individual request, and the batch size of 200.\n",
    "Next, I executed these requests in parallel using the function “imap” by the class “multiprocessing.Pool”. To keep within the limits of the API I have added a sleep for two seconds. \n",
    "The data retrieval has taken a total of about 36 seconds. (112 words)"
   ]
  },
  {
   "cell_type": "markdown",
   "metadata": {},
   "source": [
    "### Q3 - Filtering Criteria and Dataset Relevance\n",
    "_Reflect on the rationale behind setting specific thresholds for the total number of works by an author, the citation count, the number of authors per work, and the relevance of works to specific fields. How do these filtering criteria contribute to the relevance of the dataset you compiled? Do you believe any aspects of Computational Social Science research might be underrepresented or overrepresented as a result of these choices?_\n",
    "\n",
    "> When focusing on the total number of works by an author and the citation count, one can say, that while this filtering helps include work from established researchers with a proven track record of impactful research, it excludes upcoming researchers or those from underrepresented backgrounds or smaller fields of computational social science which might be as valuable as the others.\n",
    "This could lead to an overrepresentation of researchers in a more general field and an underrepresentation of niche researchers.\n",
    "When looking into the number of authors per work, can help to create a balanced representation of single-authored and multi-authored works. However, collaborative research projects which may be in interdisciplinary environments will be excluded.\n",
    "When looking into the specific fields, research that does not directly fall into one of these pre-defined fields might still hold a lot of value within these fields and may bridge traditional disciplinary boundaries. (147 words)"
   ]
  },
  {
   "cell_type": "markdown",
   "metadata": {},
   "source": [
    "## Part 4: The Network of Computational Social Scientists\n",
    "\n",
    "### Constructing the Computational Social Scientists Network"
   ]
  },
  {
   "cell_type": "markdown",
   "metadata": {},
   "source": [
    "### Part 4.1: Network Construction"
   ]
  },
  {
   "cell_type": "code",
   "execution_count": 220,
   "metadata": {},
   "outputs": [],
   "source": [
    "# Load the papers dataset\n",
    "papers_df = pd.read_csv(\"papers.csv\")\n",
    "# Load the author's dataset\n",
    "authors_df = pd.read_csv(\"authors.csv\")\n",
    "# Load the abstracts dataset\n",
    "abstracts_df = pd.read_csv(\"abstracts.csv\")"
   ]
  },
  {
   "cell_type": "code",
   "execution_count": 221,
   "metadata": {},
   "outputs": [
    {
     "name": "stderr",
     "output_type": "stream",
     "text": [
      "Authors:   0%|          | 0/10155 [00:00<?, ?it/s]"
     ]
    },
    {
     "name": "stderr",
     "output_type": "stream",
     "text": [
      "Authors: 100%|██████████| 10155/10155 [00:00<00:00, 46976.69it/s]\n"
     ]
    }
   ],
   "source": [
    "from itertools import combinations\n",
    "from collections import defaultdict\n",
    "\n",
    "# Create a dictionary to store the co-authorship counts\n",
    "author_pairs = defaultdict(int)\n",
    "\n",
    "# Iterate over each row in the DataFrame\n",
    "for authors in tqdm(papers_df['author_ids'], desc=\"Authors\"):\n",
    "    authors = ast.literal_eval(authors)\n",
    "    # Generate combinations of author IDs\n",
    "    for pair in combinations(authors, 2):\n",
    "        # Sort the pair to ensure consistent counting\n",
    "        sorted_pair = tuple(sorted(pair))\n",
    "        # Increment the co-authorship count for this pair\n",
    "        author_pairs[sorted_pair] += 1\n",
    "\n",
    "# Convert the dictionary to a list of tuples\n",
    "weighted_edgelist = [(pair[0], pair[1], count) for pair, count in author_pairs.items()]"
   ]
  },
  {
   "cell_type": "code",
   "execution_count": 222,
   "metadata": {},
   "outputs": [
    {
     "name": "stdout",
     "output_type": "stream",
     "text": [
      "15746\n"
     ]
    }
   ],
   "source": [
    "# Create graph and add edges\n",
    "G = nx.Graph()\n",
    "G.add_weighted_edges_from(weighted_edgelist)\n",
    "print(G.number_of_nodes())"
   ]
  },
  {
   "cell_type": "code",
   "execution_count": 223,
   "metadata": {},
   "outputs": [],
   "source": [
    "# We are creating a new dataset that is holding the information about the first publication year and the cited_by number and id of this work for each author\n",
    "combined_data = {'author_id': [], 'publication_year': [], 'cited_by_count': [], 'id': []}\n",
    "\n",
    "# Iterate over each row of the DataFrame\n",
    "for index, row in papers_df.iterrows():\n",
    "    # Extract information from the row\n",
    "    id_value = row['id']\n",
    "    publication_year = row['publication_year']\n",
    "    cited_by_count = row['cited_by_count']\n",
    "    author_ids = ast.literal_eval(row['author_ids'])\n",
    "    \n",
    "    # Iterate over each author_id in the list\n",
    "    for author_id in author_ids:\n",
    "        # If author_id is already in combined_data\n",
    "        if author_id in combined_data['author_id']:\n",
    "            # Find the index of the author_id\n",
    "            index = combined_data['author_id'].index(author_id)\n",
    "            # If the publication_year in combined_data is less than the current publication_year\n",
    "            if combined_data['publication_year'][index] < publication_year:\n",
    "                # Calculate the new citation count\n",
    "                new_count = combined_data['cited_by_count'][index] + cited_by_count\n",
    "                \n",
    "                # Update the information\n",
    "                combined_data['publication_year'][index] = publication_year\n",
    "                combined_data['cited_by_count'][index] = new_count\n",
    "                combined_data['id'][index] = id_value\n",
    "        else:\n",
    "            # Add new entry to combined_data\n",
    "            combined_data['author_id'].append(author_id)\n",
    "            combined_data['publication_year'].append(publication_year)\n",
    "            combined_data['cited_by_count'].append(cited_by_count)\n",
    "            combined_data['id'].append(id_value)\n",
    "\n",
    "# Create a new DataFrame from combined_data\n",
    "author_paper_combined_df = pd.DataFrame(combined_data)"
   ]
  },
  {
   "cell_type": "code",
   "execution_count": 227,
   "metadata": {},
   "outputs": [
    {
     "name": "stderr",
     "output_type": "stream",
     "text": [
      "Papers: 0it [00:00, ?it/s]"
     ]
    },
    {
     "name": "stderr",
     "output_type": "stream",
     "text": [
      "Papers: 10155it [00:00, 20454.03it/s]\n",
      "Nodes: 100%|██████████| 15746/15746 [00:00<00:00, 652539.38it/s]\n"
     ]
    }
   ],
   "source": [
    "# Add attributes to the nodes\n",
    "\n",
    "# Convert authors_df to a dictionary for faster lookups\n",
    "authors_dict = authors_df.set_index('id').to_dict(orient='index')\n",
    "authors_papers_dict = author_paper_combined_df.set_index('author_id').to_dict(orient='index')\n",
    "\n",
    "# Iterate over rows in papers_df\n",
    "for _, row in tqdm(papers_df.iterrows(), desc=\"Papers\"):\n",
    "    publication_year = row[\"publication_year\"]\n",
    "    cited_by_count = row[\"cited_by_count\"]\n",
    "    \n",
    "    for author_id in row[\"author_ids\"]:\n",
    "        if author_id in G.nodes:\n",
    "            author_citation_counts[author_id] += cited_by_count\n",
    "\n",
    "# Update the G.nodes dictionary with the results\n",
    "for node in tqdm(G.nodes, desc=\"Nodes\"):\n",
    "    author_id = node\n",
    "    display_name = \"\"\n",
    "    country_code = \"\"\n",
    "\n",
    "    # Find the author's name and country code from the authors_dict\n",
    "    author_info = authors_dict.get(author_id, {})\n",
    "    display_name = author_info.get(\"display_name\", \"\")\n",
    "    country_code = author_info.get(\"country_code\", \"\")\n",
    "\n",
    "    author_paper_info = authors_papers_dict.get(author_id, {})\n",
    "    first_publication = author_paper_info.get(\"publication_year\", \"\")\n",
    "    citation_count = author_paper_info.get(\"cited_by_count\", \"\")\n",
    "\n",
    "    # Get the citation count for the current author_id\n",
    "    G.nodes[node][\"first_publication\"] = first_publication\n",
    "    G.nodes[node][\"citation_count\"] = citation_count\n"
   ]
  },
  {
   "cell_type": "code",
   "execution_count": 232,
   "metadata": {},
   "outputs": [
    {
     "name": "stderr",
     "output_type": "stream",
     "text": [
      "Nodes: 100%|██████████| 15746/15746 [00:00<00:00, 218545.28it/s]\n"
     ]
    }
   ],
   "source": [
    "# Add attributes to the nodes\n",
    "\n",
    "# Convert authors_df to a dictionary for faster lookups\n",
    "authors_dict = authors_df.set_index('id').to_dict(orient='index')\n",
    "\n",
    "# Create a dictionary to store the citation counts for each author\n",
    "author_citation_counts = {author_id: 0 for author_id in G.nodes}\n",
    "\n",
    "# Update the G.nodes dictionary with the results\n",
    "for node in tqdm(G.nodes, desc=\"Nodes\"):\n",
    "    author_id = node\n",
    "    display_name = \"\"\n",
    "    country_code = \"\"\n",
    "\n",
    "    # Find the author's name and country code from the authors_dict\n",
    "    author_info = authors_dict.get(author_id, {})\n",
    "    display_name = author_info.get(\"display_name\", \"\")\n",
    "    country_code = author_info.get(\"country_code\", \"\")\n",
    "\n",
    "    G.nodes[node][\"display name\"] = display_name\n",
    "    G.nodes[node][\"country\"] = country_code"
   ]
  },
  {
   "cell_type": "code",
   "execution_count": 233,
   "metadata": {},
   "outputs": [],
   "source": [
    "import json\n",
    "graph_json = nx.json_graph.node_link_data(G)\n",
    "\n",
    "# Save to JSON\n",
    "with open(\"network.json\", \"w\") as json_file:\n",
    "    json.dump(graph_json, json_file)"
   ]
  },
  {
   "cell_type": "markdown",
   "metadata": {},
   "source": [
    "## Network Metrics:"
   ]
  },
  {
   "cell_type": "markdown",
   "metadata": {},
   "source": [
    "### What is the total number of nodes (authors) and links (collaborations) in the network?"
   ]
  },
  {
   "cell_type": "code",
   "execution_count": 170,
   "metadata": {},
   "outputs": [
    {
     "name": "stdout",
     "output_type": "stream",
     "text": [
      "Number of nodes: 15746\n",
      "Number of edges: 49297\n"
     ]
    }
   ],
   "source": [
    "print(f\"Number of nodes: {G.number_of_nodes()}\")\n",
    "print(f\"Number of edges: {G.number_of_edges()}\")"
   ]
  },
  {
   "cell_type": "markdown",
   "metadata": {},
   "source": [
    "### Calculate the network's density (the ratio of actual links to the maximum possible number of links). Would you say that the network is sparse? Justify your answer."
   ]
  },
  {
   "cell_type": "code",
   "execution_count": 171,
   "metadata": {},
   "outputs": [
    {
     "name": "stdout",
     "output_type": "stream",
     "text": [
      "Network density: 0.0003976835018703758\n"
     ]
    }
   ],
   "source": [
    "print(f\"Network density: {nx.density(G)}\")"
   ]
  },
  {
   "cell_type": "markdown",
   "metadata": {},
   "source": [
    ">- The network is extremely sparsely populated, since most authors have not collaborated with most other authors."
   ]
  },
  {
   "cell_type": "markdown",
   "metadata": {},
   "source": [
    "### Is the network fully connected (i.e., is there a direct or indirect path between every pair of nodes within the network), or is it disconnected?"
   ]
  },
  {
   "cell_type": "code",
   "execution_count": 172,
   "metadata": {},
   "outputs": [
    {
     "name": "stdout",
     "output_type": "stream",
     "text": [
      "Is the network connected: False\n"
     ]
    }
   ],
   "source": [
    "print(f\"Is the network connected: {nx.is_connected(G)}\")"
   ]
  },
  {
   "cell_type": "markdown",
   "metadata": {},
   "source": [
    "### If the network is disconnected, how many connected components does it have? A connected component is defined as a subset of nodes within the network where a path exists between any pair of nodes in that subset."
   ]
  },
  {
   "cell_type": "code",
   "execution_count": 175,
   "metadata": {},
   "outputs": [
    {
     "name": "stdout",
     "output_type": "stream",
     "text": [
      "Number of connected components: 246\n"
     ]
    }
   ],
   "source": [
    "print(f\"Number of connected components: {nx.number_connected_components(G)}\")"
   ]
  },
  {
   "cell_type": "markdown",
   "metadata": {},
   "source": [
    "### How many isolated nodes are there in your network? An isolated node is defined as a node with no connections to any other node in the network."
   ]
  },
  {
   "cell_type": "code",
   "execution_count": 176,
   "metadata": {},
   "outputs": [
    {
     "name": "stdout",
     "output_type": "stream",
     "text": [
      "How many isolated nodes: 0\n"
     ]
    }
   ],
   "source": [
    "print(f\"How many isolated nodes: {len(list(nx.isolates(G)))}\")"
   ]
  },
  {
   "cell_type": "markdown",
   "metadata": {},
   "source": [
    "### Discuss the results above on network density, and connectivity. Are your findings in line with what you expected? Why? (answer in max 150 words)"
   ]
  },
  {
   "cell_type": "markdown",
   "metadata": {},
   "source": [
    ">- The results make sense. The network has to be sparsely populated, since, even though we are looking at authors who are all withing the field of computational social science, most authors do not have a common work with most other authors. This means that most of the nodes will have few connections, and we can't expect the network to be connected either."
   ]
  },
  {
   "cell_type": "markdown",
   "metadata": {},
   "source": [
    "### Compute the average, median, mode, minimum, and maximum degree of the nodes. Perform the same analysis for node strength (weighted degree). What do these metrics tell us about the network? (answer in max 150 words)"
   ]
  },
  {
   "cell_type": "code",
   "execution_count": 189,
   "metadata": {},
   "outputs": [
    {
     "name": "stdout",
     "output_type": "stream",
     "text": [
      "Degree Metrics:\n",
      "  Average: 6.261526736949066\n",
      "  Median: 5.0\n",
      "  Mode: 3\n",
      "  Minimum: 1\n",
      "  Maximum: 295\n",
      "\n",
      "Strength Metrics:\n",
      "  Average: 8.510732884542106\n",
      "  Median: 5.0\n",
      "  Mode: 3\n",
      "  Minimum: 1\n",
      "  Maximum: 467\n"
     ]
    }
   ],
   "source": [
    "# Compute degree and strength of nodes\n",
    "degree_values = dict(G.degree())\n",
    "strength_values = dict(G.degree(weight='weight'))\n",
    "\n",
    "# Calculate metrics for degree\n",
    "degree_average = np.mean(list(degree_values.values()))\n",
    "degree_median = np.median(list(degree_values.values()))\n",
    "degree_mode = max(set(degree_values.values()), key=list(degree_values.values()).count)\n",
    "degree_min = min(degree_values.values())\n",
    "degree_max = max(degree_values.values())\n",
    "\n",
    "# Calculate metrics for strength\n",
    "strength_average = np.mean(list(strength_values.values()))\n",
    "strength_median = np.median(list(strength_values.values()))\n",
    "strength_mode = max(set(strength_values.values()), key=list(strength_values.values()).count)\n",
    "strength_min = min(strength_values.values())\n",
    "strength_max = max(strength_values.values())\n",
    "\n",
    "# Print results\n",
    "print(\"Degree Metrics:\")\n",
    "print(f\"  Average: {degree_average}\")\n",
    "print(f\"  Median: {degree_median}\")\n",
    "print(f\"  Mode: {degree_mode}\")\n",
    "print(f\"  Minimum: {degree_min}\")\n",
    "print(f\"  Maximum: {degree_max}\")\n",
    "\n",
    "print(\"\\nStrength Metrics:\")\n",
    "print(f\"  Average: {strength_average}\")\n",
    "print(f\"  Median: {strength_median}\")\n",
    "print(f\"  Mode: {strength_mode}\")\n",
    "print(f\"  Minimum: {strength_min}\")\n",
    "print(f\"  Maximum: {strength_max}\")"
   ]
  },
  {
   "cell_type": "markdown",
   "metadata": {},
   "source": [
    ">- The degree metrics tells us that most authors have not collaborated with most other authors in the dataset, an average of around 6, which is likely just 1 or 2 papers. A few outliers have many, many collaborations. The fact that the average strength of the nodes is higher than the degree, suggests that each author has collaborated with the same co-authors on at least 2 papers and not just one. It shows an interconnection beyond a single collaboration."
   ]
  },
  {
   "cell_type": "markdown",
   "metadata": {},
   "source": [
    "### Identify the top 5 authors by degree. What role do these node play in the network?"
   ]
  },
  {
   "cell_type": "code",
   "execution_count": 185,
   "metadata": {},
   "outputs": [
    {
     "name": "stdout",
     "output_type": "stream",
     "text": [
      "Top 5 nodes with the highest degree:\n",
      "Node: https://openalex.org/A5017489902, Degree: 295\n",
      "Node: https://openalex.org/A5044944954, Degree: 178\n",
      "Node: https://openalex.org/A5075080019, Degree: 169\n",
      "Node: https://openalex.org/A5005493160, Degree: 155\n",
      "Node: https://openalex.org/A5017914184, Degree: 150\n"
     ]
    }
   ],
   "source": [
    "# Compute degree of nodes\n",
    "degree_values = dict(G.degree())\n",
    "\n",
    "# Find the 5 nodes with the highest degree\n",
    "top_nodes_degree = sorted(degree_values.items(), key=lambda x: x[1], reverse=True)[:5]\n",
    "\n",
    "# Print the results\n",
    "print(\"Top 5 nodes with the highest degree:\")\n",
    "for node, degree in top_nodes_degree:\n",
    "    print(f\"Node: {node}, Degree: {degree}\")"
   ]
  },
  {
   "cell_type": "markdown",
   "metadata": {},
   "source": [
    ">- These authors are the ones who have the most unqiue collaborators, and can therefore be seen as the backbone of the computational social science research community - depending on how you value it of course. They are important for connecting many nodes to each other with their large amount of connections, especially considering the overall low density of the network."
   ]
  },
  {
   "cell_type": "markdown",
   "metadata": {},
   "source": [
    "### Research these authors online. What areas do they specialize in? Do you think that their work aligns with the themes of Computational Social Science? If not, what could be possible reasons? "
   ]
  },
  {
   "cell_type": "markdown",
   "metadata": {},
   "source": [
    ">- A few of them specialize in areas relating to computational social science, however, a few of them specialize in other scientific areas. There could be simple reasons for this. If they co-authored even a single paper with a category from out filters as a small subcategory, they would have been collected for our dataset despite not being completely related. Not every author of the top 5 aligns with the themes."
   ]
  }
 ],
 "metadata": {
  "kernelspec": {
   "display_name": "Python 3 (ipykernel)",
   "language": "python",
   "name": "python3"
  },
  "language_info": {
   "codemirror_mode": {
    "name": "ipython",
    "version": 3
   },
   "file_extension": ".py",
   "mimetype": "text/x-python",
   "name": "python",
   "nbconvert_exporter": "python",
   "pygments_lexer": "ipython3",
   "version": "3.10.11"
  }
 },
 "nbformat": 4,
 "nbformat_minor": 4
}
