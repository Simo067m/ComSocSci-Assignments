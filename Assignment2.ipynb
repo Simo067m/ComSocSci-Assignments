{
 "cells": [
  {
   "cell_type": "markdown",
   "id": "5182fd3b-fa90-4a6d-b146-4a5c631368eb",
   "metadata": {},
   "source": [
    "# Formalia\n",
    "\n",
    "Please read the [assignment overview page](https://laura.alessandretti.com/comsocsci2024/assignments.html) carefully before proceeding. The page contains information about formatting (including formats etc), group sizes, and many other aspects of handing in the assignment. \n",
    "\n",
    "__If you fail to follow these simple instructions, it will negatively impact your grade!__\n",
    "\n",
    "**Due date and time**: The assignment is due on April 2nd at 23:59. Hand in your Jupyter notebook file (with extension `.ipynb`) via DTU Learn _(Assignment 2)_. \n",
    "\n",
    "Remember to include in the first cell of your notebook:\n",
    "* the link to your group's Git repository \n",
    "* group members' contributions\n"
   ]
  },
  {
   "cell_type": "code",
   "execution_count": 1,
   "id": "01986336",
   "metadata": {},
   "outputs": [],
   "source": [
    "import math\n",
    "import numpy as np\n",
    "import pandas as pd\n",
    "import networkx as nx\n",
    "import matplotlib.pyplot as plt \n",
    "from tqdm import tqdm\n",
    "from netwulf import visualize\n",
    "from networkx.readwrite import json_graph\n",
    "import json"
   ]
  },
  {
   "cell_type": "markdown",
   "id": "2182d781-3727-4ff5-9b58-689381202a99",
   "metadata": {},
   "source": [
    "## Part 1: Properties of the real-world network of Computational Social Scientists"
   ]
  },
  {
   "cell_type": "markdown",
   "id": "863ca270",
   "metadata": {},
   "source": [
    "These exercises are taken from Week 5.\n",
    "> __Exercise: Analyzing Networks through a Random Model__ \n",
    ">\n",
    ">\n",
    ">\n",
    "> 1. _Random Network_: Let's start by building a Random Network, acting as a baseline (or [\"null model\"](https://en.wikipedia.org/wiki/Null_model)) to understand the Computational Social Scientists Network better.  \n",
    "> * First, calculate the probability (_p_) that makes the expected number of edges in our random network match the actual edge count in the Computational Social Scientists network. Refer to equation 3.2 in your Network Science textbook for guidance. After finding _p_, figure out the average degree (using the given formula). "
   ]
  },
  {
   "cell_type": "code",
   "execution_count": 4,
   "id": "756e5b1f",
   "metadata": {},
   "outputs": [
    {
     "name": "stdout",
     "output_type": "stream",
     "text": [
      "\n",
      "Nodes:       16284\n",
      "Connections: 60279 / 132576186 (0.04547%)\n",
      "Probability: 0.00045\n",
      "Avg deg:     7.40346\n"
     ]
    }
   ],
   "source": [
    "def read_json_network(filename):\n",
    "    with open(filename) as f:\n",
    "        js_graph = json.load(f)\n",
    "    return json_graph.node_link_graph(js_graph)\n",
    "\n",
    "G = read_json_network(\"network.json\")\n",
    "\n",
    "N = G.number_of_nodes()\n",
    "L = G.number_of_edges()\n",
    "L_max = N*(N-1)//2\n",
    "p  = L/L_max # (3.2)\n",
    "d_avg = p*(N-1) # (3.3)\n",
    "print(f\"\"\"\n",
    "Nodes:       {N}\n",
    "Connections: {L} / {L_max} ({L/L_max*100:.5f}%)\n",
    "Probability: {p:.5f}\n",
    "Avg deg:     {d_avg:.5f}\"\"\")"
   ]
  },
  {
   "cell_type": "markdown",
   "id": "2d352b5a",
   "metadata": {},
   "source": [
    "> * Now, write a function to generate a Random Network that mirrors the Computational Social Scientists network in terms of node count, using your calculated _p_. Generate a random network by linking nodes in every possible pair with probability _p_. **Hint**: you can use the function [``np.random.uniform``](https://numpy.org/doc/stable/reference/random/generated/numpy.random.uniform.html) to draw samples from a uniform probability distribution.   \n",
    "> * Visualize the network as you did for the Computational Social Scientists network in the exercise above (my version is below). "
   ]
  },
  {
   "cell_type": "code",
   "execution_count": 5,
   "id": "3cb13bac",
   "metadata": {},
   "outputs": [
    {
     "name": "stderr",
     "output_type": "stream",
     "text": [
      "  0%|          | 0/16283 [00:00<?, ?it/s]"
     ]
    },
    {
     "name": "stderr",
     "output_type": "stream",
     "text": [
      "100%|██████████| 16283/16283 [00:01<00:00, 11748.50it/s]\n"
     ]
    },
    {
     "name": "stdout",
     "output_type": "stream",
     "text": [
      "\n",
      "Nodes:       16284\n",
      "Connections: 60053 / 132576186 (0.0453%)\n",
      "Probability: 0.00045\n",
      "N components: 13\n"
     ]
    }
   ],
   "source": [
    "def generate_graph(N,p):\n",
    "    g = nx.Graph()\n",
    "    g.add_nodes_from(range(N))\n",
    "\n",
    "    for i in tqdm(range(N-1)):\n",
    "        js = np.arange(i+1,N)[np.random.uniform(size=N-i-1) < p, np.newaxis]\n",
    "        js = np.insert(js,0,i,axis=1)\n",
    "\n",
    "        g.add_edges_from([(int(ij[0]),int(ij[1])) for ij in js])\n",
    "        # break\n",
    "    return g\n",
    "\n",
    "g = generate_graph(N,p)\n",
    "print(f\"\"\"\n",
    "Nodes:       {g.number_of_nodes()}\n",
    "Connections: {g.number_of_edges()} / {L_max} ({round(g.number_of_edges()/L_max*100,5)}%)\n",
    "Probability: {round(p,5)}\n",
    "N components: {len(list(nx.connected_components(g)))}\"\"\")"
   ]
  },
  {
   "cell_type": "code",
   "execution_count": 4,
   "id": "44772e4c",
   "metadata": {},
   "outputs": [],
   "source": [
    "# _ = visualize(nx.Graph(G))"
   ]
  },
  {
   "cell_type": "markdown",
   "id": "9d840135",
   "metadata": {},
   "source": [
    "> * Answer the following questions __(max 200 words in total)__: \n",
    ">    - What regime does your random network fall into? Is it above or below the critical threshold?  \n",
    ">    - According to the textbook, what does the network's structure resemble in this regime?  \n",
    ">    - Based on your visualizations, identify the key differences between the actual and the random networks. Explain whether these differences are consistent with theoretical expectations."
   ]
  },
  {
   "cell_type": "markdown",
   "id": "50fdae96",
   "metadata": {},
   "source": [
    "- It falls inbetween the supercritical regime and the connected component regime\n",
    "- The network is very sparse and the smaller components are trees while the giant component is the eco system\n",
    "- The actual network has few nodes with high degree, while the random network has more or less the same size of node degree across them all (note: use same setting for visualizing both) "
   ]
  },
  {
   "cell_type": "markdown",
   "id": "047c586a",
   "metadata": {},
   "source": [
    "> 2. _Degree Distribution_: This section focuses on analyzing the degree distribution of both the actual Computational Social Scientists network and its random counterpart.\n",
    "> * Compute the distribution of degree for the random network using the numpy function ``np.histogram``. Choose bins, and normalization strategies appropriately. **Hint:** Revisit the content from Week 3, Part 3 of the lectures.  \n",
    "> * Compute the distribution of degree for the Computational Social Scientists network using the numpy function ``np.histogram``. Also here, choose bins and normalization strategies wisely, based on the recommendations from previous lectures.\n",
    "> * Plot both degree distributions on the same figure using line plots, ensuring the x and y axes are scaled in a way that allows for comparison between the two distributions.\n",
    "> * Add two vertical lines showing the average degree for the random and the real network. "
   ]
  },
  {
   "cell_type": "code",
   "execution_count": 6,
   "id": "85bce658",
   "metadata": {},
   "outputs": [
    {
     "data": {
      "image/png": "[encoded data removed]",
      "text/plain": [
       "<Figure size 1440x576 with 1 Axes>"
      ]
     },
     "metadata": {
      "needs_background": "light"
     },
     "output_type": "display_data"
    }
   ],
   "source": [
    "fig,ax = plt.subplots(1,1,figsize=(20,8))\n",
    "\n",
    "# Actual\n",
    "G_deg = pd.DataFrame(list(G.degree()),columns=[\"id\",\"Node degree\"])\n",
    "\n",
    "bin_space = np.logspace(np.log10(G_deg[\"Node degree\"].min()),\n",
    "                        np.log10(G_deg[\"Node degree\"].max()), \n",
    "                        30) \n",
    "hist,edges = np.histogram(G_deg[\"Node degree\"], bins=bin_space)\n",
    "\n",
    "xbar = (edges[:-1]+edges[1:])/2 # get midpoints between edges\n",
    "width = bin_space[1:]-bin_space[:-1]\n",
    "\n",
    "ax.bar(xbar,hist,width=width*.9,alpha=1, label=\"Actual\")\n",
    "ax.axvline(G_deg[\"Node degree\"].mean(), linestyle=\"--\", lw = 3, color=\"#f00\", label=f'actual-mean:{G_deg[\"Node degree\"].mean()}')\n",
    "\n",
    "\n",
    "# Random\n",
    "g_deg = pd.DataFrame(list(g.degree()),columns=[\"id\",\"Node degree\"])\n",
    "\n",
    "# Use Actual binspace for better comparison\n",
    "# bin_space = np.logspace(np.log10(max(g_deg[\"Node degree\"].min(),1)),\n",
    "#                         np.log10(g_deg[\"Node degree\"].max()), \n",
    "#                         30) \n",
    "\n",
    "hist,edges = np.histogram(g_deg[\"Node degree\"], bins=bin_space)\n",
    "\n",
    "xbar = (edges[:-1]+edges[1:])/2 # get midpoints between edges\n",
    "width = bin_space[1:]-bin_space[:-1]\n",
    "\n",
    "ax.bar(xbar,hist,width=width*.9,alpha=.5, label=\"Random\")\n",
    "ax.axvline(g_deg[\"Node degree\"].mean(), linestyle=\"--\", lw = 3, color=\"#00f\", label=f'random-mean:{g_deg[\"Node degree\"].mean()}')\n",
    "\n",
    "\n",
    "ax.set_xscale(\"log\")\n",
    "ax.set_yscale(\"log\")\n",
    "fig.legend()\n",
    "plt.show()\n",
    "# print(g_deg[\"Node degree\"].sum())\n",
    "# print(G_deg[\"Node degree\"].sum())"
   ]
  },
  {
   "cell_type": "markdown",
   "id": "cff097a6",
   "metadata": {},
   "source": [
    "> * Answer the following questions __(max 200 words in total)__: \n",
    ">    - Does the average degree meaningfully represents the network's characteristics, especially in light of the insights gained from exploring heavy-tailed distributions? Discuss its adequacy or limitations in capturing the essence of the network's structural properties. \n",
    ">    - What differences can you observe between the real and the random distributions? How does the shape of the degree distribution for each network inform us about the network's properties? (max 150 words)"
   ]
  },
  {
   "cell_type": "markdown",
   "id": "e60706ad",
   "metadata": {},
   "source": [
    "- Both have roughly the same average degree which works for normal distributions but is a poor metric when it comes to heavy tailed distributions, as heavy tailed distributions have extremely high or low degree nodes which skews the mean. \n",
    "- The actual network is more spread out with some extremely high nodes skewing the mean while the random network are closer to the mean. "
   ]
  },
  {
   "cell_type": "markdown",
   "id": "d4f45bbc",
   "metadata": {},
   "source": [
    "## Part 2 Network Analysis in Computational Social Science\n",
    "\n",
    "These exercises are taken from Week 6. \n",
    "\n",
    "> __Exercise 1: Mixing Patterns and Assortativity__ \n",
    ">\n",
    "> __Part 1: Assortativity Coefficient__ \n",
    "> 1. *Calculate the Assortativity Coefficient* for the network based on the country of each node. Implement the calculation using the formula provided during the lecture, also available in [this paper](https://arxiv.org/pdf/cond-mat/0209450.pdf) (equation 2, here for directed networks). **Do not use the NetworkX implementation.**"
   ]
  },
  {
   "cell_type": "code",
   "execution_count": 25,
   "id": "23ff6c74",
   "metadata": {},
   "outputs": [
    {
     "name": "stdout",
     "output_type": "stream",
     "text": [
      "1181 49297\n",
      "0.4860336315564441\n",
      "49297\n"
     ]
    }
   ],
   "source": [
    "def read_json_network(filename):\n",
    "    with open(filename) as f:\n",
    "        js_graph = json.load(f)\n",
    "    return json_graph.node_link_graph(js_graph)\n",
    "G = read_json_network(\"network.json\")\n",
    "\n",
    "def get_assort_coeff(gg): # Assortative coefficient\n",
    "    frac_edge_sum = 0\n",
    "    for n1,n2 in gg.edges:\n",
    "        if gg.nodes[n1][\"country\"] == gg.nodes[n2][\"country\"]:\n",
    "            frac_edge_sum += 1\n",
    "    frac_edge_sum /= gg.number_of_edges()\n",
    "\n",
    "    frac_half_sum = {}\n",
    "    for n in gg.nodes:\n",
    "        country = gg.nodes[n][\"country\"]\n",
    "        frac_half_sum[country] = frac_half_sum.get(country, 0) + gg.degree[n]\n",
    "        break\n",
    "\n",
    "    n_stub = gg.number_of_edges()*2\n",
    "    expect_n_same = sum(map(lambda a: (a/n_stub)**2, frac_half_sum.values()))\n",
    "\n",
    "    return (frac_edge_sum - expect_n_same)/(1-expect_n_same)\n",
    "r = get_assort_coeff(G)\n",
    "print(r)\n",
    "print(G.number_of_edges())"
   ]
  },
  {
   "cell_type": "markdown",
   "id": "16db8354",
   "metadata": {},
   "source": [
    "> __Part 2: Configuration model__\n",
    "> In the following, we are going to assess the significance of the assortativity by comparing the network's assortativity coefficient against that of random networks generated through the configuration model.  \n",
    ">\n",
    "> 2. *Implement the configuration model* using the _double edge swap_ algorithm to generate random networks. Ensure each node retains its original degree but with altered connections. Create a function that does that by following these steps:\n",
    ">   - **a.** Create an exact copy of your original network.\n",
    ">   - **b.** Select two edges, $e_{1} = (u,v)$ and $e_{2} = (x,y)$, ensuring *u != y* and *v != x*.\n",
    ">   - **c.** Flip the direction of $e_{1}$ to $e_{1} = (v,u)$ 50% of the time. This ensure that your final results is not biased, in case your edges were sorted (they usually are). \n",
    ">   - **d.** Ensure that new edges $e_{1}' = (e_{1}[0],e_{2}[1])$ and $e_{2}' = (e_{2}[0],e_{1}[1])$ do not already exist in the network.\n",
    ">   - **e.** Remove edges $e_{1}$ and $e_{2}$ and add edges $e_{1}'$ and $e_{2}'$.\n",
    ">   - **f.** Repeat steps **b** to **e** until you have performed _E*10_ swaps, where E is the total number of edges.\n",
    "> 3. *Double check that your algorithm works well*, by showing that the degree of nodes in the original network and the new 'randomized' version of the network are the same."
   ]
  },
  {
   "cell_type": "code",
   "execution_count": 26,
   "id": "3cd74ea7",
   "metadata": {},
   "outputs": [
    {
     "name": "stderr",
     "output_type": "stream",
     "text": [
      "100%|██████████| 492970/492970 [23:34<00:00, 348.61it/s]"
     ]
    },
    {
     "name": "stdout",
     "output_type": "stream",
     "text": [
      "Matching degree across nodes? True\n",
      "Same edges? False\n"
     ]
    },
    {
     "name": "stderr",
     "output_type": "stream",
     "text": [
      "\n"
     ]
    }
   ],
   "source": [
    "# def config_model(gg, E_mul = 10, in_tqdm = False): # Configuration model (double edge swap algo.) [slow]\n",
    "#     g = gg.copy()\n",
    "\n",
    "#     for _ in tqdm(range(int(g.number_of_edges()*E_mul)), leave = not in_tqdm):\n",
    "#         while True:\n",
    "#             i1,i2 = np.random.randint(E, size=2)\n",
    "#             edges = list(g.edges)\n",
    "#             n1,n2 = edges[i1]\n",
    "#             n3,n4 = edges[i2]\n",
    "\n",
    "#             if np.random.randint(2): # if switch\n",
    "#                 n1,n2 = n2,n1\n",
    "#             if n1 == n4 or n2 == n3: continue\n",
    "#             if g.has_edge(n1,n4) or g.has_edge(n2,n3): continue\n",
    "#             g.remove_edges_from([(n1,n2),(n3,n4)])\n",
    "#             g.add_edges_from([(n1,n4),(n2,n3)])\n",
    "#             break\n",
    "#     return g\n",
    "\n",
    "np_choice = np.random.choice\n",
    "def config_model(g, E_mul = 10, in_tqdm = False): # Configuration model (double edge swap algo.) [faster]\n",
    "    gg = g.copy()\n",
    "    for _ in tqdm(range( int(g.number_of_edges()*E_mul) ), leave = not in_tqdm):\n",
    "        while True: \n",
    "            n11,n21 = np_choice(gg.nodes,size=2,replace=False)\n",
    "            try: \n",
    "                n12 = np_choice(list(set(gg.neighbors(n11)) - set(gg.neighbors(n21)) - {n21})) # random neighbour to n11 but not to n21 or n21 itself\n",
    "                n22 = np_choice(list(set(gg.neighbors(n21)) - set(gg.neighbors(n11)) - {n11})) # random neighbour to n21 but not to n11 or n11 itself\n",
    "            except: # if nodes share the same neighbour -> no new connection\n",
    "                # raise Exception()\n",
    "                continue\n",
    "            gg.remove_edges_from([(n11,n12),(n21,n22)])\n",
    "            gg.add_edges_from([(n11,n22),(n12,n21)])\n",
    "            break\n",
    "    return gg\n",
    "\n",
    "g = config_model(G, E_mul=10)\n",
    "print(\"Matching degree across nodes?\", dict(G.degree()) == dict(g.degree()))\n",
    "print(\"Same edges?\", G.edges == g.edges)"
   ]
  },
  {
   "cell_type": "markdown",
   "id": "56db8cc1",
   "metadata": {},
   "source": [
    "> __Part 3: Analyzing Assortativity in Random Networks__  \n",
    ">\n",
    "> 4. *Generate and analyze at least 100 random networks* using the configuration model. For each, calculate the assortativity with respect to the country and plot the distribution of these values. Compare the results with the assortativity of your original network to determine if connections within the same country are significantly higher than chance."
   ]
  },
  {
   "cell_type": "code",
   "execution_count": 59,
   "id": "02edd8d4",
   "metadata": {},
   "outputs": [],
   "source": [
    "r_list = []\n",
    "for _ in tqdm(range(100)):\n",
    "    r_list.append(get_assort_coeff(config_model(G, E_mul=0.1, in_tqdm=True))) # used 0.1 x edge count to randomize\n",
    "\n",
    "fig,ax = plt.subplots(1,1,figsize=(20,8))\n",
    "bin_space = np.linspace(min(r_list),\n",
    "                        max(r_list), \n",
    "                        10) \n",
    "hist,edges = np.histogram(r_list, bins=bin_space)\n",
    "\n",
    "xbar = (edges[:-1]+edges[1:])/2 # get midpoints between edges\n",
    "width = bin_space[1:]-bin_space[:-1]\n",
    "\n",
    "ax.bar(xbar,hist,width=width*.9,alpha=1, label=\"Random distribution\")\n",
    "ax.axvline(r)\n",
    "fig.show()"
   ]
  },
  {
   "cell_type": "markdown",
   "id": "f6d7a3b1",
   "metadata": {},
   "source": [
    "> __Part 4: Assortativity by Degree__\n",
    ">\n",
    "> 5. *Calculate degree assortativity* for your network using the formula discussed in the lecture.\n",
    "> 6. *Compare your network's degree assortativity* against that of 100 random networks generated via the configuration model. Analyze whether your network shows a tendency for high-degree scientists to connect with other high-degree scientists and vice versa. "
   ]
  },
  {
   "cell_type": "code",
   "execution_count": null,
   "id": "2a048e6c",
   "metadata": {},
   "outputs": [],
   "source": [
    "avg_edge_deg = 0\n",
    "ku  = 0\n",
    "ku2 = 0\n",
    "for e in G.edges:\n",
    "    avg_edge_deg = G.degree(e[0]) * G.degree(e[1])\n",
    "for _,d in G.degree:\n",
    "    ku  += d\n",
    "    ku2 += d**2\n",
    "    \n",
    "avg_edge_deg /= G.number_of_edges()\n",
    "ku           /= G.number_of_nodes()\n",
    "ku2          /= G.number_of_nodes()\n",
    "kv  = ku\n",
    "kv2 = ku2\n",
    "\n",
    "r = (avg_edge_deg - ku * kv) / np.sqrt(ku2-ku**2) / np.sqrt(kv2-kv**2)\n",
    "print(r)\n",
    "print(nx.degree_assortativity_coefficient(G))\n"
   ]
  },
  {
   "cell_type": "markdown",
   "id": "caa1dd18",
   "metadata": {},
   "source": [
    "> __Part 5: Reflection questions (max 250 words for the 3 questions)__    \n",
    "> 7. *Assortativity by degree.* Were the results of the degree assortativity in line with your expectations? Why or why not?    \n",
    "> 8. *Edge flipping.* In the process of implementing the configuration model, you were instructed to flip the edges (e.g., changing *e_1* from (u,v) to (v,u)) 50% of the time. Why do you think this step is included?    \n",
    "> 9. *Distribution of assortativity in random networks.* Describe the distribution of degree assortativity values you observed for the random networks. Was the distribution pattern expected? Discuss how the nature of random network generation (specifically, the configuration model and edge flipping) might influence this distribution and whether it aligns with theoretical expectations.    "
   ]
  },
  {
   "cell_type": "code",
   "execution_count": null,
   "id": "fd82dd46",
   "metadata": {},
   "outputs": [],
   "source": []
  },
  {
   "cell_type": "markdown",
   "id": "15efbdea",
   "metadata": {},
   "source": [
    "> **Exercise 2: Central nodes.** Remember to write your answers in the notebook. \n",
    "> * Find the 5 most central scientists according to the closeness centrality. What role do you imagine scientists with high closeness centrality play? \n",
    "> * Find the 5 most central scientists according to eigenvector centrality.     \n",
    "> * Plot the closeness centrality of nodes vs their degree. Is there a correlation between the two? Did you expect that? Why?    \n",
    "> * Repeat the two points above using eigenvector centrality instead. Do you observe any difference? Why?"
   ]
  },
  {
   "cell_type": "code",
   "execution_count": null,
   "id": "704aa6a3",
   "metadata": {},
   "outputs": [],
   "source": [
    "ccentrality = nx.closeness_centrality(G)\n",
    "ecentrality = nx.eigenvector_centrality(G)\n",
    "ccentrality = dict(sorted(ccentrality.items(), key=lambda x:x[1], reverse=True))\n",
    "ecentrality = dict(sorted(ecentrality.items(), key=lambda x:x[1], reverse=True))\n",
    "\n",
    "print(\"Top 5 c-centrality:\")\n",
    "for id in list(ccentrality.keys())[:5]:\n",
    "    print(f\"Id: {id}  Deg: {G.degree(id):>4}  c-centrality:{ccentrality[id]}  Info:{G.nodes[id]}\")\n",
    "print(\"Top 5 e-centrality:\")\n",
    "for id in list(ecentrality.keys())[:5]:\n",
    "    print(f\"Id: {id}  Deg: {G.degree(id):>4}  e-centrality: {ecentrality[id]}  Info:{G.nodes[id]}\")\n",
    "\n",
    "fig,ax = plt.subplots(2,1,figsize=(20,8))\n",
    "for n in G.nodes:\n",
    "    ax[0].plot(ccentrality[n],G.degree(n),'ro')\n",
    "    ax[1].plot(ecentrality[n],G.degree(n),'bo')\n",
    "plt.show()"
   ]
  },
  {
   "cell_type": "markdown",
   "id": "e70f95a6",
   "metadata": {},
   "source": [
    "* Scientist with high closeness centrality are easiler able to reach further/other scientist\n",
    "* The higher the closeness centrality, the higher is the average degree. This is expected as with higher degree would reach nodes which potentially could reduce the the average shortest distance. \n",
    "* The eigenvector centrality shows that high degree doesn't nessesarily lead to other degress which are also high. There is no correlation and quite unexpected."
   ]
  },
  {
   "cell_type": "markdown",
   "id": "9f72dca3-246a-4056-b99c-2f14ccef7fef",
   "metadata": {},
   "source": [
    "## Part 3 - Words that characterize Computational Social Science communities"
   ]
  },
  {
   "cell_type": "markdown",
   "id": "ba265f06",
   "metadata": {},
   "source": [
    "These exercises are taken from Week 8\n",
    "> __Exercise 1: TF-IDF and the Computational Social Science communities.__ The goal for this exercise is to find the words charachterizing each of the communities of Computational Social Scientists.\n",
    "> What you need for this exercise: \n",
    ">    * The assignment of each author to their network community, and the degree of each author (Week 6, Exercise 4). This can be stored in a dataframe or in two dictionaries, as you prefer.  \n",
    ">    * the tokenized _abstract_ dataframe (Week 7, Exercise 2)\n",
    ">\n",
    "> 1. First, check out [the wikipedia page for TF-IDF](https://en.wikipedia.org/wiki/Tf%E2%80%93idf). Explain in your own words the point of TF-IDF. \n",
    ">   * What does TF stand for? \n",
    ">   * What does IDF stand for?\n",
    "> 2. Now, we want to find out which words are important for each *community*, so we're going to create several ***large documents, one for each community***. Each document includes all the tokens of abstracts written by members of a given community. \n",
    ">   * Consider a community _c_\n",
    ">   * Find all the abstracts of papers written by a member of community _c_.\n",
    ">   * Create a long array that stores all the abstract tokens \n",
    ">   * Repeat for all the communities. \n",
    "> __Note:__ Here, to ensure your code is efficient, you shall exploit ``pandas`` builtin functions, such as [``groupby.apply``](https://pandas.pydata.org/docs/reference/api/pandas.core.groupby.GroupBy.apply.html) or [``explode``](https://pandas.pydata.org/docs/reference/api/pandas.DataFrame.explode.html).\n",
    "> 3. Now, we're ready to calculate the TF for each word. Use the method of your choice to find the top 5 terms within the __top 5 communities__ (by number of authors). \n",
    ">   * Describe similarities and differences between the communities.\n",
    ">   * Why aren't the TFs not necessarily a good description of the communities?\n",
    ">   * Next, we calculate IDF for every word. \n",
    ">   * What base logarithm did you use? Is that important?\n",
    "> 4. We're ready to calculate TF-IDF. Do that for the __top 9 communities__ (by number of authors). Then for each community: \n",
    ">   * List the 10 top TF words \n",
    ">   * List the 10 top TF-IDF words\n",
    ">   * List the top 3 authors (by degree)\n",
    ">   * Are these 10 words more descriptive of the community? If yes, what is it about IDF that makes the words more informative?\n",
    "\n"
   ]
  },
  {
   "cell_type": "markdown",
   "id": "f37bfc68",
   "metadata": {},
   "source": [
    "\n",
    " __Exercise 2: The Wordcloud__. It's time to visualize our results!\n",
    "\n",
    "> * Install the [`WordCloud`](https://pypi.org/project/wordcloud/) module. \n",
    "> * Now, create word-cloud for each community. Feel free to make it as fancy or non-fancy as you like.\n",
    "> * Make sure that, together with the word cloud, you print the names of the top three authors in each community (see my plot above for inspiration). \n",
    "> * Comment on your results. What can you conclude on the different sub-communities in Computational Social Science? \n",
    "> * Look up online the top author in each community. In light of your search, do your results make sense?\n",
    "\n",
    " __Exercise 3: Computational Social Science__ \n",
    "\n",
    "> * Go back to Week 1, Exercise 1. Revise what you wrote on the topics in Computational Social Science. \n",
    "> * In light of your data-driven analysis, has your understanding of the field changed? How? __(max 150 words)__"
   ]
  },
  {
   "cell_type": "code",
   "execution_count": null,
   "id": "4c8fddad",
   "metadata": {},
   "outputs": [],
   "source": []
  }
 ],
 "metadata": {
  "kernelspec": {
   "display_name": "Python 3 (ipykernel)",
   "language": "python",
   "name": "python3"
  },
  "language_info": {
   "codemirror_mode": {
    "name": "ipython",
    "version": 3
   },
   "file_extension": ".py",
   "mimetype": "text/x-python",
   "name": "python",
   "nbconvert_exporter": "python",
   "pygments_lexer": "ipython3",
   "version": "3.10.2"
  }
 },
 "nbformat": 4,
 "nbformat_minor": 5
}
